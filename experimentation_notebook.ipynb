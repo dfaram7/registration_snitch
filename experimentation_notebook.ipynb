{
 "cells": [
  {
   "cell_type": "markdown",
   "id": "12dc2ea3",
   "metadata": {},
   "source": [
    "# Experimentation notebook\n",
    "\n",
    "For those of you familiar with Jupyter Notebooks you can experiment with the variables that are currently available and also experiment with your own detection logic if you wish.\n",
    "\n",
    "The cells below will help you collect the data from Companies House and generate some png files with your charts without having to post to Twitter or join in with the #joinosintbotnetwithus\n",
    "\n"
   ]
  },
  {
   "cell_type": "code",
   "execution_count": 79,
   "id": "3b8a43b8",
   "metadata": {},
   "outputs": [],
   "source": [
    "import requests\n",
    "import pandas as pd\n",
    "import networkx as nx\n",
    "import json\n",
    "import re\n",
    "from collections import Counter\n",
    "from datetime import datetime\n",
    "from datetime import timedelta\n",
    "from time import sleep\n",
    "import collections\n",
    "import matplotlib.pyplot as plt\n",
    "import tweepy\n",
    "from time import sleep\n",
    "import random\n"
   ]
  },
  {
   "cell_type": "markdown",
   "id": "1f8db3a3",
   "metadata": {},
   "source": [
    "You will need to register for a Companies House API key [here](https://developer.company-information.service.gov.uk/)\n",
    "\n",
    "You will also need some Twitter Developer API keys with [elevated access](https://developer.twitter.com/en/portal/products/elevated)"
   ]
  },
  {
   "cell_type": "code",
   "execution_count": 80,
   "id": "da2ce3b2",
   "metadata": {},
   "outputs": [],
   "source": [
    "api_key = \"YOUR-COMPANIES-HOUSE-API-KEY\" #register for one here\n",
    "\n",
    "\n",
    "consumer_key=''\n",
    "consumer_secret_key=''\n",
    "access_token=''\n",
    "access_token_secret=''\n",
    "\n",
    "auth=tweepy.OAuthHandler(consumer_key,consumer_secret_key)\n",
    "auth.set_access_token(access_token,access_token_secret)\n",
    "api=tweepy.API(auth)"
   ]
  },
  {
   "cell_type": "markdown",
   "id": "035b612d",
   "metadata": {},
   "source": [
    "## PARAMETERS\n",
    "At the miniute these are the only parameters to experiment with when creating charts unless you write your own logic functions\n",
    "\n",
    "More coming soon hopefully!"
   ]
  },
  {
   "cell_type": "code",
   "execution_count": 81,
   "id": "726602d2",
   "metadata": {},
   "outputs": [],
   "source": [
    "\n",
    "\n",
    "time = 1 # n number of days ago to analyse - note that only 5000 registrations can be retrieved by csv. If time is large then the below limits will need to be tighter \n",
    "lower_add_limit = 2 #search for addresses that have more than n companies registered to one address \n",
    "upper_add_limit = 5 #search for addresses that have more less than n companies registered to one address \n",
    "chart_filter = 2 #include companies on the chart that appear n or more times\n",
    "creation_limit = 3 #don't create or tweet a chart if it has less than n companies\n",
    "check_if_tweeted_before = True #check if there is an image already present in pwd for that address can be changed to False"
   ]
  },
  {
   "cell_type": "code",
   "execution_count": 82,
   "id": "26c571bd",
   "metadata": {},
   "outputs": [],
   "source": [
    "reach_back = datetime.now() - timedelta(days=time)"
   ]
  },
  {
   "cell_type": "code",
   "execution_count": 83,
   "id": "3be7319b",
   "metadata": {},
   "outputs": [],
   "source": [
    "def get_csv():\n",
    "    csv = requests.get(\"https://find-and-update.company-information.service.gov.uk/advanced-search/download?companyNameIncludes=&companyNameExcludes=&registeredOfficeAddress=&incorporationFromDay=\" + str(reach_back.strftime('%d')) + \"&incorporationFromMonth=\" + str(reach_back.strftime('%m')) + \"&incorporationFromYear=\" + str(reach_back.strftime('%Y')) + \"&incorporationToDay=\" + str(datetime.now().strftime('%d')) + \"&incorporationToMonth=\" + str(datetime.now().strftime('%m')) + \"&incorporationToYear=\" + str(datetime.now().strftime('%Y')) + \"&sicCodes=&dissolvedFromDay=&dissolvedFromMonth=&dissolvedFromYear=&dissolvedToDay=&dissolvedToMonth=&dissolvedToYear=\")\n",
    "    return csv\n"
   ]
  },
  {
   "cell_type": "code",
   "execution_count": 84,
   "id": "86d8dc5f",
   "metadata": {},
   "outputs": [],
   "source": [
    "def make_dataframe(csv):\n",
    "    dfmd = pd.DataFrame([x.split(',') for x in csv.text.split('\\n')])\n",
    "    new_header = dfmd.iloc[0] #grab the first row for the header\n",
    "    dfmd = dfmd[1:] #take the data less the header row\n",
    "    dfmd.columns = new_header #set the header row as the df header\n",
    "    \n",
    "    return dfmd"
   ]
  },
  {
   "cell_type": "code",
   "execution_count": 85,
   "id": "30cf9a4f",
   "metadata": {},
   "outputs": [],
   "source": [
    "def coys_btwn(dataframe):\n",
    "    \n",
    "    #addresses where more than two but less than 5 companies have been registered to the same address in 24 hours\n",
    "    \n",
    "    vc = dataframe['registered_office_address\\r'].value_counts().to_frame()\n",
    "    temp_df = vc[(vc['registered_office_address\\r'] >= lower_add_limit) & (vc['registered_office_address\\r'] <= upper_add_limit)]\n",
    "    index_list = temp_df.index.values.tolist()\n",
    "    ret_dataframe = dataframe[dataframe['registered_office_address\\r'].isin(index_list)]\n",
    "    \n",
    "    return ret_dataframe"
   ]
  },
  {
   "cell_type": "code",
   "execution_count": 86,
   "id": "6800db66",
   "metadata": {},
   "outputs": [],
   "source": [
    "def get_directors(coynumx):\n",
    "    \n",
    "    director_country_list = []\n",
    "    \n",
    "    url = \"https://api.company-information.service.gov.uk/company/\" + str(coynumx[1]) + \"/officers\"\n",
    "    response = requests.get(url, auth=(api_key, ''))\n",
    "    #print(response)\n",
    "    json_search_result = response.text\n",
    "    search_result = json.JSONDecoder().decode(json_search_result)\n",
    "    \n",
    "    #print(search_result)\n",
    "    \n",
    "    for director in search_result['items']:\n",
    "        try:\n",
    "            director_country_list.append([director['name'], director['country_of_residence']])\n",
    "        except:\n",
    "            director_country_list.append([director['name'], 'BLANK'])\n",
    "        \n",
    "    return director_country_list"
   ]
  },
  {
   "cell_type": "code",
   "execution_count": 87,
   "id": "44fc6f42",
   "metadata": {},
   "outputs": [],
   "source": [
    "def dir_handler(sdf):\n",
    "    \n",
    "    coynumlist = []\n",
    "    \n",
    "    counter = 0\n",
    "    for i, r in sdf.iterrows():\n",
    "        \n",
    "        try:\n",
    "            coynumlist.append([r['registered_office_address\\r'], r['company_name'], r['company_number'], get_directors([r['company_name'], r['company_number']])])\n",
    "        except Exception as e:\n",
    "            print('HTTP Error due to CH API for ' + r['company_name'] + ', continuing...')\n",
    "            counter += 1\n",
    "            continue\n",
    "    #print(counter)\n",
    "    if int((counter/len(sdf.index))*100) < 10:\n",
    "        print('CH API only allows 600 requests every 5 minutes, you may have hit your rate limit')\n",
    "    else:\n",
    "        print('retrieved ' + str(int((counter/len(sdf.index))*100)) + '% of officers for suspicious companies')\n",
    "        \n",
    "    return coynumlist \n",
    "            \n",
    "\n"
   ]
  },
  {
   "cell_type": "code",
   "execution_count": null,
   "id": "80f52bf8",
   "metadata": {},
   "outputs": [],
   "source": [
    "#feel free to play with colors!!!!! lets make twitter colorful\n",
    "\n",
    "#note that tweeter is commented out and not present - charts will just write to local directory\n",
    "\n",
    "def grapher_new(dataframe, address, postcode):\n",
    "    temp = dataframe.loc[dataframe['address'] == address]\n",
    "    #print(temp)\n",
    "    if len(temp['company_name'].unique()) > creation_limit:\n",
    "        \n",
    "        G = nx.Graph()\n",
    "        f = plt.figure(figsize=(12, 14))\n",
    "    \n",
    "        for i, r in dataframe.loc[dataframe['address'] == address].iterrows():\n",
    "\n",
    "\n",
    "            G.add_nodes_from([(r['company_name'], {\"color\": \"red\"})])\n",
    "            G.add_nodes_from([(re.findall(\"[A-Z]{1,2}[0-9][A-Z0-9]? [0-9][ABD-HJLNP-UW-Z]{2}\",r[\"address\"])[0], {\"color\": \"green\"})])\n",
    "            G.add_edge(r['company_name'], re.findall(\"[A-Z]{1,2}[0-9][A-Z0-9]? [0-9][ABD-HJLNP-UW-Z]{2}\",r[\"address\"])[0])         \n",
    "\n",
    "            for ent in r['directors']:\n",
    "\n",
    "                G.add_nodes_from([(ent[0], {\"color\": \"blue\"})])\n",
    "\n",
    "                if ent[1] != \"BLANK\":\n",
    "                    G.add_nodes_from([(ent[1], {\"color\": \"yellow\"})])\n",
    "\n",
    "                G.add_edge(ent[0], r['company_name'])\n",
    "                try:\n",
    "                    G.add_edge(ent[0], ent[1])\n",
    "                except:\n",
    "                    continue\n",
    "\n",
    "        color = nx.get_node_attributes(G, \"color\")\n",
    "        color_map = []\n",
    "        \n",
    "        try:\n",
    "            for node in G:\n",
    "\n",
    "                if color[node] == \"red\":\n",
    "                    color_map.append('red')\n",
    "                elif color[node] == \"green\":\n",
    "                    color_map.append('green')\n",
    "                elif color[node] == \"blue\":\n",
    "                    color_map.append('blue')\n",
    "                elif color[node] == \"yellow\":\n",
    "                    color_map.append('yellow')\n",
    "\n",
    "\n",
    "            nx.draw(G, with_labels=True, font_weight='bold', node_color=color_map, ax=f.add_subplot(111))\n",
    "\n",
    "            f.savefig(postcode.replace(\" \", \"\") + \".png\")\n",
    "            plt.close(f)\n",
    "\n",
    "            #tweeter(dataframe, address, postcode)\n",
    "        except:\n",
    "            print('Country of residence BLANK, skipping')            \n",
    "        \n",
    "    else:\n",
    "        print('less than ' + str(creation_limit) + ' companies - skipping...')\n",
    "        pass"
   ]
  },
  {
   "cell_type": "code",
   "execution_count": null,
   "id": "f3b8f776",
   "metadata": {},
   "outputs": [],
   "source": [
    "def tweeter(result, fc, postcode):\n",
    "    \n",
    "    temp = result.loc[result['address'] == fc]\n",
    "    \n",
    "    #print(temp)\n",
    "    \n",
    "    companies = len(temp['company_name'].unique())\n",
    "    temp['directors'] = temp['directors'].astype(str)\n",
    "    directors = len(temp['directors'].unique())\n",
    "    \n",
    "    space = '''\n",
    "    \n",
    "    \n",
    "    '''\n",
    "    \n",
    "    tweet_text= 'There have been ' + str(directors) + \" officer/s register \" + str(companies) + \" companies in the UK at the postcode \" + str(postcode) + \" detected in the last 24 hours\" + space + \"#OSINT #Data #opensource\"\n",
    "    image_path = postcode.replace(\" \", \"\") + '.png'\n",
    "\n",
    "    api.update_status_with_media(tweet_text, image_path)\n",
    "    \n",
    "    sleep(random.randint(300, 900))"
   ]
  },
  {
   "cell_type": "markdown",
   "id": "1c448ee2",
   "metadata": {},
   "source": [
    "## HIGHLY RECCOMENDED \n",
    "Run the below cell to retrieve the relevant data and save as the temp variable\n",
    "Running the data retrieval parts of the script may get you banned from the API or have your IP blacklisted\n",
    "You can then experiment with chart layout in the grapher_new() function"
   ]
  },
  {
   "cell_type": "code",
   "execution_count": 89,
   "id": "3fde9c21",
   "metadata": {},
   "outputs": [],
   "source": [
    "temp = coys_btwn(make_dataframe(get_csv()))"
   ]
  },
  {
   "cell_type": "code",
   "execution_count": null,
   "id": "138f414b",
   "metadata": {},
   "outputs": [],
   "source": [
    "    \n",
    "def coy_director_filterer(listoflist):\n",
    "    #takes [address, company_name, company_number, [[directors]]] as input\n",
    "    result = pd.DataFrame(listoflist)\n",
    "    #print(result)\n",
    "    result.columns = ['address', 'company_name', 'company_number', 'directors']\n",
    "    for add in result['address'].unique():\n",
    "        directors_list = []\n",
    "        for i, r in result.loc[result['address'] == add].iterrows():\n",
    "\n",
    "            for ent in r['directors']:\n",
    "                directors_list.append(ent[0])\n",
    "        \n",
    "        \n",
    "        #print(collections.Counter(directors_list))\n",
    "        filtered_companies = []    \n",
    "        if len ([item for item, count in collections.Counter(directors_list).items() if count >= chart_filter]) > 0:\n",
    "            filtered_companies.append(r['address'])\n",
    "            \n",
    "        \n",
    "        \n",
    "        #print(filtered_companies)\n",
    "        for fc in filtered_companies:\n",
    "            #print('fc - ' + fc)\n",
    "            #print('raddress ' + r['address'])\n",
    "            try:\n",
    "                postcode = re.findall(\"[A-Z]{1,2}[0-9][A-Z0-9]? [0-9][ABD-HJLNP-UW-Z]{2}\",r[\"address\"])[0]\n",
    "                #print('postcode - ' + postcode)\n",
    "\n",
    "\n",
    "                if check_if_tweeted_before is True:\n",
    "                    try:\n",
    "                        check_file = open(postcode.replace(\" \", \"\") + \".png\")\n",
    "\n",
    "\n",
    "                    except Exception as e:\n",
    "                        print('image not created already, starting grapher')\n",
    "                        grapher_new(result, fc, postcode)\n",
    "\n",
    "                else:\n",
    "                    grapher_new(result, fc, postcode)\n",
    "            except Exception as e:\n",
    "                print('postcode without a space not yet handled! skipping')\n",
    "\n"
   ]
  },
  {
   "cell_type": "code",
   "execution_count": null,
   "id": "d320135f",
   "metadata": {},
   "outputs": [],
   "source": [
    "#run this to print the charts that would have got tweeted to the local directory\n",
    "\n",
    "coy_director_filterer(temp)"
   ]
  },
  {
   "cell_type": "code",
   "execution_count": null,
   "id": "723e88a7",
   "metadata": {},
   "outputs": [],
   "source": [
    "    \n"
   ]
  },
  {
   "cell_type": "code",
   "execution_count": null,
   "id": "fa1a32db",
   "metadata": {},
   "outputs": [],
   "source": []
  },
  {
   "cell_type": "code",
   "execution_count": null,
   "id": "725179d8",
   "metadata": {},
   "outputs": [],
   "source": []
  },
  {
   "cell_type": "code",
   "execution_count": null,
   "id": "5193a277",
   "metadata": {},
   "outputs": [],
   "source": []
  }
 ],
 "metadata": {
  "kernelspec": {
   "display_name": "Python 3 (ipykernel)",
   "language": "python",
   "name": "python3"
  },
  "language_info": {
   "codemirror_mode": {
    "name": "ipython",
    "version": 3
   },
   "file_extension": ".py",
   "mimetype": "text/x-python",
   "name": "python",
   "nbconvert_exporter": "python",
   "pygments_lexer": "ipython3",
   "version": "3.9.7"
  }
 },
 "nbformat": 4,
 "nbformat_minor": 5
}
